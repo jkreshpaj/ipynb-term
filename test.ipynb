{
 "cells": [
  {
   "cell_type": "markdown",
   "metadata": {},
   "source": [
    "# DIY neural network\n",
    "\n",
    "Neural networks are the primary method that we will use for most of the rest of these guides. It is important to understand how neural networks actually work, rather than seeing them like a black box. \n",
    "\n",
    "In this guide, we will derive and implement a simple 2-layer neural network with a sigmoid activation function. We will do so by starting with the linear regression example from the previous guide, and building on top of it. \n",
    "\n",
    "If you want more details about their history, design, and use cases, take a look at the [ml4a chapter on neural networks](http://ml4a.github.io/ml4a/neural_networks/), Michael Nielsen's [Neural Networks and Deep Learning](http://neuralnetworksanddeeplearning.com/), Goodfellow, Bengio, and Courville's [Deep Learning](http://www.deeplearningbook.org/) book, Yoav Goldberg's \"[A Primer on Neural Network Models for Natural Language Processing](http://arxiv.org/abs/1510.00726)\", or [Francis Tseng's AI notes](http://frnsys.com/ai_notes/machine_learning/neural_nets.html) on neural networks.\n"
   ]
  },
  {
   "cell_type": "markdown",
   "metadata": {},
   "source": [
    "### What is a neural network?\n",
    "\n",
    "A neural network is pretty simple - it's just a _network_ of _neurons_! That is, it is some neurons - often called \"units\", the terminology I'll try to stick to - that are connected in some way. Each unit is a little function: it takes some input from the (incoming) units that are connected to it and passes some output to the (outgoing) units it's connected to.\n",
    "\n",
    "Generally these units are organized into layers, and each layer connects to the next. The most basic architecture (i.e. how the units are connected) is a _dense_ layer, in which every input is connected to every unit (these are also called _affine_ or _fully-connected_ layers). The input to a unit is a tensor consisting of the outputs of each incoming unit or it may be the input you give to the network (if they are in the first layer).\n",
    "\n",
    "It's a vector if each incoming unit outputs a scalar, it's a matrix if each incoming unit outputs a vector, and so on.\n",
    "\n",
    "![A feedforward neural network](../assets/feedforward.jpg)\n",
    "[source](http://cs.stanford.edu/people/eroberts/courses/soco/projects/neural-networks/Architecture/feedforward.html)\n",
    "\n",
    "To keep things simple, we'll just consider the case where the input is a vector (i.e. each unit outputs a scalar).\n",
    "\n",
    "Each unit has a vector of weights - these are the parameters that the network learns.\n",
    "\n",
    "The inner operations of the basic unit is straightforward. We collapse the weight vector $w$ and input vector $v$ into a scalar by taking their dot product. Often a _bias_ term $b$ is added to this dot product; this bias is also learned. then we pass this dot product through an _activation function_ $f$, which also returns a scalar. Activation functions are typically nonlinear so that neural networks can learn nonlinear functions. I'll mention a few common activation functions in a bit, but for now let's see what a basic unit is doing:"
   ]
  },
  {
   "cell_type": "markdown",
   "metadata": {},
   "source": [
    "### Review linear regression\n",
    "\n",
    "Let's quickly recall our linear regression example from the last section.\n",
    "\n",
    "Suppose we have a set of points $(X, Y)$, and we'd like to find a line, $y=mx+b$ which best fits that dataset. We would like to find the parameters, $m$ and $b$ which minimize the sum squared error, $J = \\frac{1}{2} \\sum_i{(y_i - (mx_i + b))^2}$. Although there exists a quicker analytical way of solving a linear regression, we instead introduced gradient descent as a way of solving a linear regression.  \n",
    "\n",
    "With gradient descent, we calculate the gradient of the loss function $J$ with respect to the parameters $m$ and $b$. \n",
    "\n",
    "$$\n",
    "\\nabla J = \\left[ \\frac{\\partial J}{\\partial m}, \\frac{\\partial J}{\\partial b} \\right] = \\left[ -\\sum_i{x_i \\cdot (y_i - (mx_i + b))}, -\\sum_i{(y_i - (mx_i + b))} \\right]\n",
    "$$\n",
    "\n",
    "And then we picked a random initial $m$ and $b$, and then defined an update rule where we calculate the gradient and then adjust the parameters $m$ and $b$ with the following formula:\n",
    "\n",
    "$$ m := m - \\alpha \\cdot \\frac{\\partial J}{\\partial m} $$\n",
    "$$ b := b - \\alpha \\cdot \\frac{\\partial J}{\\partial b} $$\n",
    "\n",
    "We do this some number of times, and $m$ and $b$ converge to the optimal solution."
   ]
  },
  {
   "cell_type": "markdown",
   "metadata": {},
   "source": [
    "## Neural networks\n",
    "\n",
    "We are now going to innovate our linear regression in a few ways and turn it into a multiple-layer neural network!\n",
    "\n",
    "First, let's start by adding another input variable, so that now our input is two dimensions. We'll go back to the Iris dataset, and pose the following problem: given the sepal length and sepal width (first two features), try to predict the petal length (third feature).\n",
    "\n",
    "Let's load the data first."
   ]
  },
  {
   "cell_type": "code",
   "execution_count": 1,
   "metadata": {},
   "outputs": [],
   "source": [
    "import numpy as np\n",
    "import matplotlib.pyplot as plt\n",
    "from sklearn.datasets import load_iris\n",
    "\n",
    "iris = load_iris()\n",
    "data, labels = iris.data[:,0:2], iris.data[:,2]\n",
    "\n",
    "num_samples = len(labels)  # size of our dataset\n",
    "\n",
    "# shuffle the dataset\n",
    "shuffle_order = np.random.permutation(num_samples)\n",
    "data = data[shuffle_order, :]\n",
    "labels = labels[shuffle_order]\n"
   ]
  },
  {
   "cell_type": "markdown",
   "metadata": {},
   "source": [
    "Like the 1-dimensional problem previously, we can still do linear regression, except now we have two variables and therefore two weights as well. Let's denote the input variables as $x_1$ and $x_2$ and instead of using $m$ as the coefficient variable, let's use $w_1$ and $w_2$. So for linear regression, we would have the following function:\n",
    "\n",
    "$$\n",
    "f(X) = w_1 x_1 + w_2 x_2 + b \n",
    "$$\n",
    "\n",
    "Rather than having two parameters as in the 1-d example, now there are three parameters: $w1$, $w2$, and $b$.\n",
    "\n",
    "We can visualize this graphically using a neuron diagram where $y=f(x)$:\n",
    "\n",
    "![2 input neuron](https://ml4a.github.io/images/figures/neuron2.png)\n"
   ]
  },
  {
   "cell_type": "markdown",
   "metadata": {},
   "source": [
    "For example, suppose set $w = [0.2, 0.6]$ and $b = -0.3$. Let's calculate the resulting $y$. We can program this as a function called `weighted_sum`."
   ]
  },
  {
   "cell_type": "code",
   "execution_count": 2,
   "metadata": {},
   "outputs": [
    {
     "name": "stdout",
     "output_type": "stream",
     "text": [
      "for x=[4.70, 3.20], predicted = 2.56, actual = 1.60\n"
     ]
    }
   ],
   "source": [
    "def weighted_sum(x, w, b):\n",
    "    return b + np.dot(w, x)\n",
    "\n",
    "# set our paramters\n",
    "w = [0.2, 0.6]\n",
    "b = -0.3\n",
    "\n",
    "# for example, let's use the first data point\n",
    "X, y = data, labels\n",
    "\n",
    "pred_y = [weighted_sum(x, w, b) for x in X]\n",
    "\n",
    "# let's print out the first prediction\n",
    "print(\"for x=[%0.2f, %0.2f], predicted = %0.2f, actual = %0.2f\" % (X[0][0], X[0][1], pred_y[0], y[0]))"
   ]
  },
  {
   "cell_type": "markdown",
   "metadata": {},
   "source": [
    "Recall that we can evaluate the quality of our predictions using the sum-squared error function."
   ]
  },
  {
   "cell_type": "code",
   "execution_count": 3,
   "metadata": {},
   "outputs": [
    {
     "name": "stdout",
     "output_type": "stream",
     "text": [
      "313.0096\n"
     ]
    }
   ],
   "source": [
    "# sum squared error\n",
    "def cost(y_pred, y_actual):\n",
    "    return 0.5 * np.sum((y_actual-y_pred)**2)\n",
    "\n",
    "error = cost(pred_y, y)\n",
    "print(error)"
   ]
  },
  {
   "cell_type": "markdown",
   "metadata": {},
   "source": [
    "Given a dataset, we can use this setup to do linear regression, just as we did in the case of the one-dimensional dataset in th previous section. In this case, we are no longer able to visualize the loss surface, because our function has 3 parameters ($w_1$, $w_2$, and $b$) and therefore requires four dimensions to plot the loss surface with repsect to the parameters). But the regression would work just the same way; we can optimize our three parameters using calculus and finding the partial derivative of the cost function with respect to all the parameters.\n",
    "\n",
    "Since we now have two $w$ and two $x$, we will use the subscript to differentiate them. So $x_1$ is the first element in the input variable $X$. We will use the superscript to denote the $i-th$ point in the dataset. So $(X^1, y^1)$ is the first point in the dataset and $(X^2, y^2)$ is the second, and for example, $x_2^1$ is the second element in the first data point (be careful not to confuse the meaning of the subscript and the superscript).\n",
    "\n",
    "We find that our partial derivatives are:\n",
    "\n",
    "$$ \\frac{\\partial J}{\\partial w_1} = - \\sum{x_1^i \\cdot (y^i - (w_1 x_1^i + w_2 x_2^i+ b))} $$\n",
    "$$ \\frac{\\partial J}{\\partial w_2} = - \\sum{x_2^i \\cdot (y^i - (w_1 x_1^i + w_2 x_2^i+ b))} $$\n",
    "$$ \\frac{\\partial J}{\\partial b} = - \\sum{y^i - (w_1 x_1^i + w_2 x_2^i+ b)} $$\n",
    "\n",
    "Again, we use the following update rule, where we calculate the gradient and then adjust the parameters $w_1$, $w_2$, and $b$:\n",
    "\n",
    "$$ w_1 := w_1 - \\alpha \\cdot \\frac{\\partial J}{\\partial w_i} $$\n",
    "$$ w_2 := w_2 - \\alpha \\cdot \\frac{\\partial J}{\\partial w_2} $$\n",
    "$$ b := b - \\alpha \\cdot \\frac{\\partial J}{\\partial b} $$\n",
    "\n",
    "If we implement this in code, as we did in the previous guide for the 1-D example:"
   ]
  },
  {
   "cell_type": "code",
   "execution_count": 4,
   "metadata": {},
   "outputs": [
    {
     "name": "stdout",
     "output_type": "stream",
     "text": [
      "initial parameters: w1=0.080, w2=0.220, b=0.259\n",
      "initial cost = 5.384\n",
      "final parameters: w1=1.902, w2=-0.923, b=-0.221\n",
      "final cost = 0.665\n"
     ]
    },
    {
     "data": {
      "image/png": "[encoded data removed]",
      "text/plain": [
       "<matplotlib.figure.Figure at 0x10b20d0b8>"
      ]
     },
     "metadata": {},
     "output_type": "display_data"
    }
   ],
   "source": [
    "import random\n",
    "\n",
    "# grab our data\n",
    "X, y = data, labels\n",
    "\n",
    "# always a good idea to normalize\n",
    "X = X / np.amax(X, axis=0)\n",
    "y = y / np.amax(y, axis=0)\n",
    "\n",
    "# choose a random initial m, b\n",
    "w, b = [random.random(), random.random()], random.random()\n",
    "\n",
    "# our function w1 * x1 + w2 * x2 + b\n",
    "def F(X, w, b):\n",
    "    return np.sum(w*X, axis=1) + b\n",
    "\n",
    "# what is our error?\n",
    "y_pred = F(X, w, b)\n",
    "init_cost = cost(y_pred, y)\n",
    "\n",
    "print(\"initial parameters: w1=%0.3f, w2=%0.3f, b=%0.3f\"%(w[0], w[1], b))\n",
    "print(\"initial cost = %0.3f\" % init_cost)\n",
    "\n",
    "# implement partial derivatives of our parameters\n",
    "def dJdw1(X, y, w, b):\n",
    "    return -np.dot(X[:,0], y - F(X, w, b))\n",
    "\n",
    "def dJdw2(X, y, w, b):\n",
    "    return -np.dot(X[:,1], y - F(X, w, b))\n",
    "\n",
    "def dJdb(X, y, w, b):\n",
    "    return -np.sum(y - F(X, w, b))\n",
    "\n",
    "# choose the alpha parameter and number of iterations\n",
    "alpha = 0.001\n",
    "n_iters = 2000\n",
    "\n",
    "# run through gradient descent\n",
    "errors = []\n",
    "for i in range(n_iters):\n",
    "    w[0] = w[0] - alpha * dJdw1(X, y, w, b)\n",
    "    w[1] = w[1] - alpha * dJdw2(X, y, w, b)\n",
    "    b = b - alpha * dJdb(X, y, w, b)\n",
    "    y_pred = F(X, w, b)\n",
    "    j = cost(y_pred, y)\n",
    "    errors.append(j)\n",
    "    \n",
    "# plot the error\n",
    "plt.figure(figsize=(16, 3))\n",
    "plt.plot(range(n_iters), errors, linewidth=2)\n",
    "plt.title(\"Cost by iteration\")\n",
    "plt.ylabel(\"Cost\")\n",
    "plt.xlabel(\"iterations\")\n",
    "\n",
    "# what is our final error rate\n",
    "y_pred = F(X, w, b)\n",
    "final_cost = cost(y_pred, y)\n",
    "\n",
    "print(\"final parameters: w1=%0.3f, w2=%0.3f, b=%0.3f\"%(w[0], w[1], b))\n",
    "print(\"final cost = %0.3f\" % final_cost)"
   ]
  },
  {
   "cell_type": "markdown",
   "metadata": {},
   "source": [
    "A nice thing to do is to visualize our function. We can plot the prediction surface, $f(X)$ as a function of  $X=\\left[x_1,x_2\\right]$ within some range. We do that in the next cell:"
   ]
  },
  {
   "cell_type": "code",
   "execution_count": 5,
   "metadata": {},
   "outputs": [
    {
     "data": {
      "text/plain": [
       "<mpl_toolkits.mplot3d.art3d.Poly3DCollection at 0x10b2af550>"
      ]
     },
     "execution_count": 5,
     "metadata": {},
     "output_type": "execute_result"
    },
    {
     "data": {
      "image/png": "[encoded data removed]",
      "text/plain": [
       "<matplotlib.figure.Figure at 0x10b20a898>"
      ]
     },
     "metadata": {},
     "output_type": "display_data"
    }
   ],
   "source": [
    "from mpl_toolkits.mplot3d import Axes3D\n",
    "\n",
    "fig = plt.figure()\n",
    "ax = fig.gca(projection='3d')\n",
    "x1, x2 = np.meshgrid(np.arange(-10, 10, 1), np.arange(-10, 10, 1))\n",
    "y = b + w[0]*x1 + w[1]*x2\n",
    "ax.plot_surface(x1, x2, y, rstride=1, cstride=1, cmap=plt.cm.coolwarm, linewidth=0, antialiased=False)\n"
   ]
  },
  {
   "cell_type": "markdown",
   "metadata": {},
   "source": [
    "We found a respectable cost applying linear regression to our dataset. But we can still do better. The problem with linear regression is the linearity. Sometimes, data is not so nicely shaped that a plane can fit it well. Real-world datasets are much more often irregularly shaped, with data being distributed along apparently curved surfaces. \n",
    "\n",
    "In order to give our function defined before, $F(X) = w_1*x_1 + w_2*x_2 + b$ more \"flexibility,\" we can complicate it by introducing a non-linearity. One good non-linear transformation is a sigmoid function, which is given below.\n",
    "\n",
    "$$\n",
    "\\sigma(z) = \\frac{1}{1 + e^{-z}}\n",
    "$$\n",
    "\n",
    "Let's implement the sigmoid function, and take a look at its graph.\n"
   ]
  },
  {
   "cell_type": "code",
   "execution_count": 6,
   "metadata": {},
   "outputs": [
    {
     "data": {
      "text/plain": [
       "<matplotlib.text.Text at 0x10b5259e8>"
      ]
     },
     "execution_count": 6,
     "metadata": {},
     "output_type": "execute_result"
    },
    {
     "data": {
      "image/png": "[encoded data removed]",
      "text/plain": [
       "<matplotlib.figure.Figure at 0x10b2eadd8>"
      ]
     },
     "metadata": {},
     "output_type": "display_data"
    }
   ],
   "source": [
    "def sigmoid(z):\n",
    "    return 1.0 / (1.0 + np.exp(-z))\n",
    "\n",
    "x = np.arange(-10.0, 10.0, 0.2)\n",
    "sig = sigmoid(x)\n",
    "plt.plot(x, sig)\n",
    "plt.title('Sigmoid function')"
   ]
  },
  {
   "cell_type": "markdown",
   "metadata": {},
   "source": [
    "Basically, a sigmoid just squashes any input it gets to between 0 and 1.\n",
    "\n",
    "So we now modify our basic function in the following way: instead of just outputting the weighted sum by itself, $b + \\sum w_i x_i$, we now pass that through the sigmoid function. \n",
    "\n",
    "In graphical terms, this looks like:\n",
    "\n",
    "![2 input neuron sigmoid](https://ml4a.github.io/images/figures/neuron2sig.png)\n",
    "\n",
    "So instead of $y = w_1 x_1 + w_2 x_2 + b$, our function now looks like:\n",
    "\n",
    "$$\n",
    "z = w_1 x_1 + w_2 x_2 + b \\\\\n",
    "y = \\sigma(z)\n",
    "$$\n",
    "\n",
    "Thus, the full equation is:\n",
    "\n",
    "$$\n",
    "y = \\frac{1}{1 + e^{-(w_1 x_1 + w_2 x_2 + b)}} \n",
    "$$\n",
    "\n",
    "But it's easier to imagine it as the two-step process we saw before.\n",
    "\n",
    "Suppose we use the same parameters as before:\n",
    "\n",
    "$$\n",
    "w = \\left[0.2, 0.6\\right] \\\\\n",
    "b = -0.3\n",
    "$$\n",
    "\n",
    "We can compute the predictions like so:"
   ]
  },
  {
   "cell_type": "code",
   "execution_count": 7,
   "metadata": {},
   "outputs": [
    {
     "name": "stdout",
     "output_type": "stream",
     "text": [
      "829.4187739184515\n"
     ]
    }
   ],
   "source": [
    "def weighted_sum(x, w, b):\n",
    "    return b + np.dot(w, x)\n",
    "\n",
    "def sigmoid(z):\n",
    "    return 1 / (1 + np.exp(-z))\n",
    "\n",
    "# reset our parameters\n",
    "w = [0.2, 0.6]\n",
    "b = -0.3\n",
    "\n",
    "X, y = data, labels\n",
    "\n",
    "# get weighted sum like before\n",
    "Z = [weighted_sum(x, w, b) for x in X]\n",
    "\n",
    "# now transform the weighted sums with a sigmoid\n",
    "y_pred = [sigmoid(z) for z in Z]\n",
    "\n",
    "# evaluate error\n",
    "error = cost(y_pred, y)\n",
    "print(error)"
   ]
  },
  {
   "cell_type": "markdown",
   "metadata": {},
   "source": [
    "That migh look much worse, but we haven't optimized yet!\n",
    "\n",
    "Given the above weights, we can take a look at the graph of our neuron's activity."
   ]
  },
  {
   "cell_type": "code",
   "execution_count": 8,
   "metadata": {},
   "outputs": [
    {
     "data": {
      "text/plain": [
       "<mpl_toolkits.mplot3d.art3d.Poly3DCollection at 0x10b20a208>"
      ]
     },
     "execution_count": 8,
     "metadata": {},
     "output_type": "execute_result"
    },
    {
     "data": {
      "image/png": "[encoded data removed]",
      "text/plain": [
       "<matplotlib.figure.Figure at 0x10b4f05c0>"
      ]
     },
     "metadata": {},
     "output_type": "display_data"
    }
   ],
   "source": [
    "fig = plt.figure()\n",
    "ax = fig.gca(projection='3d')\n",
    "x1, x2 = np.meshgrid(np.arange(-10, 10, 1), np.arange(-10, 10, 1))\n",
    "y = sigmoid(b + w[0]*x1 + w[1]*x2)\n",
    "ax.plot_surface(x1, x2, y, rstride=1, cstride=1, cmap=plt.cm.coolwarm, linewidth=0, antialiased=False)\n"
   ]
  },
  {
   "cell_type": "markdown",
   "metadata": {},
   "source": [
    "The function we posed above can already be considered a neural network. But let's complicate things a bit further, by adding a hidden layer. Neurons can be arranged in layers. So instead of having just two input neurons and an output neuron, let's place a layer of three neurons in the middle. \n",
    "\n",
    "Now it looks like this:\n",
    "\n",
    "![2,3,1 net](https://ml4a.github.io/images/figures/neural_net_231.png)\n",
    "\n",
    "It's important to realize that everything works as it did before. We start at the input layer on the left, and compute each middle neuron individually. Once they are calculated, we can perform the same operation for the output neuron and get the final result. We still have a function that takes in two inputs and outputs one final value. \n",
    "\n",
    "Note: it is typical to skip the non-linearity for the output layer. So we have sigmoids on the 3 middle layer neurons, but not the final output neuron.\n",
    "\n",
    "Compared to our earlier linear regression, we have complicated things in two ways:\n",
    "1) The addition of a non-linear sigmoid to each neuron's activation function (except for in the output neuron).\n",
    "2) The addition of hidden layer in the middle.\n",
    "\n",
    "The end result of this is our neural net is much more \"flexible.\" It can bend and curve in various ways, depending on how the parameters are set. But it comes at a heavy cost: we can no longer do linear regression on it, and doing gradient descent on it will be more difficult, as we shall see.\n",
    "\n",
    "Let's implement this in code. We now have two layers of weights. Let's call them $W1$ and $W2$. $W1$ has $2 \\times 3$ connections, and $W2$ has $3 \\times 1$ connections. We can create random initial weights with numpy."
   ]
  },
  {
   "cell_type": "code",
   "execution_count": 9,
   "metadata": {},
   "outputs": [
    {
     "name": "stdout",
     "output_type": "stream",
     "text": [
      "W1= [[ 0.55604015 -1.30425457 -1.51214943]\n",
      " [-0.06828511 -0.63519787 -0.59453199]]\n",
      "W2= [[-0.09451191]\n",
      " [-2.21387541]\n",
      " [-0.4512179 ]]\n"
     ]
    }
   ],
   "source": [
    "W1 = np.random.randn(2, 3)\n",
    "W2 = np.random.randn(3, 1)\n",
    "\n",
    "print(\"W1=\", W1)\n",
    "print(\"W2=\", W2)"
   ]
  },
  {
   "cell_type": "markdown",
   "metadata": {},
   "source": [
    "For simplicity, let's just keep all the biases, $b$ fixed to 0 for now. We'll bring them back layer.\n",
    "\n",
    "To do the full operation from the input layer to the output layer is called a \"forward pass.\" The next cell will implement a forward pass."
   ]
  },
  {
   "cell_type": "code",
   "execution_count": 10,
   "metadata": {},
   "outputs": [
    {
     "name": "stdout",
     "output_type": "stream",
     "text": [
      "predicted 2.56 for example 0, actual 1.60, total cost 201434.60\n"
     ]
    }
   ],
   "source": [
    "X, y = data, labels\n",
    "\n",
    "# first layer weighted sum z\n",
    "z = np.dot(X, W1)\n",
    "\n",
    "# project z through non-linear sigmoid\n",
    "z = sigmoid(z)\n",
    "\n",
    "# do another dot product at end (sigmoid is omitted)\n",
    "y_pred = np.dot(z, W2)\n",
    "\n",
    "# what is our cost\n",
    "error = cost(y_pred, y)\n",
    "\n",
    "print('predicted %0.2f for example 0, actual %0.2f, total cost %0.2f'%(pred_y[0], y[0], error))"
   ]
  },
  {
   "cell_type": "markdown",
   "metadata": {},
   "source": [
    "Let's turn this basic operation into We can turn this into a class."
   ]
  },
  {
   "cell_type": "code",
   "execution_count": 11,
   "metadata": {},
   "outputs": [],
   "source": [
    "\n",
    "class Neural_Network(object):\n",
    "    def __init__(self, n0, n1, n2):        \n",
    "        self.n0 = n0\n",
    "        self.n1 = n1\n",
    "        self.n2 = n2\n",
    "        \n",
    "        # initialize weights\n",
    "        self.W1 = np.random.randn(self.n0, self.n1)\n",
    "        self.W2 = np.random.randn(self.n1 ,self.n2)\n",
    "        \n",
    "    def predict(self, x):\n",
    "        z = np.dot(x, self.W1)\n",
    "        z = sigmoid(z)\n",
    "        y = np.dot(z, self.W2)\n",
    "        return y\n",
    "  "
   ]
  },
  {
   "cell_type": "markdown",
   "metadata": {},
   "source": [
    "Instantiate a neural network with 2 input neurons, 3 hidden neurons, and 1 output neuron."
   ]
  },
  {
   "cell_type": "code",
   "execution_count": 12,
   "metadata": {},
   "outputs": [],
   "source": [
    "net = Neural_Network(2, 3, 1)    "
   ]
  },
  {
   "cell_type": "markdown",
   "metadata": {},
   "source": [
    "Now to do a forward pass, we can simply run the networks `predict` function:"
   ]
  },
  {
   "cell_type": "code",
   "execution_count": 13,
   "metadata": {},
   "outputs": [
    {
     "name": "stdout",
     "output_type": "stream",
     "text": [
      "predicted 2.56 for example 0, actual 1.60, total cost 211597.43\n"
     ]
    }
   ],
   "source": [
    "X, y = data, labels\n",
    "y_pred = net.predict(X)\n",
    "error = cost(y_pred, y)\n",
    "\n",
    "print('predicted %0.2f for example 0, actual %0.2f, total cost %0.2f'%(pred_y[0], y[0], error))"
   ]
  },
  {
   "cell_type": "markdown",
   "metadata": {},
   "source": [
    "## Gradient descent\n",
    "\n",
    "To review, we have a 2x3x1 neural network with 9 weights and 4 biases for 13 total parameters. How can we optimize the parameters to minimize our cost function.\n",
    "\n",
    "As with our linear regression example from before, we know we can solve it with gradient descent. Actually, now we *have* to solve it with gradient descent! Linear regression could actually be solved analytically, but for neural networks, no analytical solution can be used to find the parameters, since it is non-linear.\n",
    "\n",
    "So how will gradient descent work here? Recall that the goal of gradient descent is to find the gradient of the loss function $J$ with respect to the parameters $w$ (note, we are including the biases in $w$).\n",
    "\n",
    "$$\\nabla J = \\left[ \\frac{\\partial J}{\\partial w_1}, \\frac{\\partial J}{\\partial w_2}, ..., \\frac{\\partial J}{\\partial w_n} \\right]$$\n",
    "\n",
    "So that we may be able to apply an iterative update rule to each of the parameters:\n",
    "\n",
    "$$ w_i := w_i - \\alpha \\cdot \\frac{\\partial J}{\\partial w_i} $$\n",
    "\n",
    "Let's start with the simplest way of calculating the gradient, the numerical (experimental way). Recall that the definition of any derivative is:\n",
    "\n",
    "$$f^\\prime(x) = \\lim_{\\Delta x\\to 0} \\frac{f(x + \\Delta x) - f(x)}{\\Delta x} $$\n",
    "\n",
    "Thus, the partial derivative of the loss with respect to any weight can be calculated as:\n",
    "\n",
    "$$ \\frac{\\partial J}{\\partial w_i} = \\lim_{\\Delta w_i \\to 0} \\frac{J(w_i + \\Delta w_i) - J(w_i)}{\\Delta w_i} $$\n",
    "\n",
    "This provides us a very simple, straightforward way to get the gradient. We just pick some small $\\Delta w_i$ and then for each weight, compute the value of the loss at the current $w_i$ and at $w_i+\\Delta w_i$, and take the difference.\n",
    "\n",
    "Note that while this method is very simple, it is also very slow and computationally inefficient. That's because it requires doing a forward pass of the network for every single parameter, for *each* update. At 13 weights, that's no big deal, but if our network has 1,000,000 weights, that's at least 1,000,000 forward passes, each of which have at least 1,000,000 multiplications. We shall see later that there exists a fast and efficient way of computing the gradient, called _Backpropagation_. But for now, we will use the slow way because it is much easier to understand and implement. \n"
   ]
  },
  {
   "cell_type": "markdown",
   "metadata": {},
   "source": [
    "In the next cell, we implement the numerical method for calculating the gradient, given a network and dataset."
   ]
  },
  {
   "cell_type": "code",
   "execution_count": 14,
   "metadata": {},
   "outputs": [],
   "source": [
    "import itertools\n",
    "\n",
    "def get_gradient(net, X, y):\n",
    "    w_delta = 1e-8\n",
    "\n",
    "    # get the current value of the loss, wherever the parameters are\n",
    "    y_pred_current = net.predict(X)\n",
    "    error_current = cost(y_pred_current, y)\n",
    "\n",
    "    # grab the current weights and copy them (so we can restore them after modification)\n",
    "    dw1, dw2 = np.zeros((net.n0, net.n1)), np.zeros((net.n1, net.n2))\n",
    "    W1, W2 = np.copy(net.W1), np.copy(net.W2) \n",
    "    \n",
    "    # for the first layer, iterate through each weight, \n",
    "    # perturb it slightly, and calculate the numerical \n",
    "    # slope between that loss and the original loss\n",
    "    for i, j in itertools.product(range(net.n0), range(net.n1)):\n",
    "        net.W1 = np.copy(W1)\n",
    "        net.W1[i][j] += w_delta\n",
    "        y_pred = net.predict(X)\n",
    "        error = cost(y_pred, y)\n",
    "        dw1[i][j] = (error - error_current) / w_delta\n",
    "\n",
    "    # do the same thing for the second layer\n",
    "    for i, j in itertools.product(range(net.n1), range(net.n2)):\n",
    "        net.W2 = np.copy(W2)\n",
    "        net.W2[i][j] += w_delta\n",
    "        y_pred = net.predict(X)\n",
    "        error = cost(y_pred, y)\n",
    "        dw2[i][j] = (error - error_current) / w_delta\n",
    "\n",
    "    # restore the original weights\n",
    "    net.W1, net.W2 = np.copy(W1), np.copy(W2)\n",
    "\n",
    "    return dw1, dw2\n"
   ]
  },
  {
   "cell_type": "markdown",
   "metadata": {},
   "source": [
    "The above function `get_gradient` calculates the gradient of a 2-layer network `net`, given a dataset `X`, `y`. In the next cell, we now go through the learning procedure. We load our dataset, instantiate a neural network, and train it on the data using the gradient method made above."
   ]
  },
  {
   "cell_type": "code",
   "execution_count": 15,
   "metadata": {},
   "outputs": [
    {
     "name": "stdout",
     "output_type": "stream",
     "text": [
      "initial cost = 85.579\n",
      "final cost = 0.562\n"
     ]
    },
    {
     "data": {
      "image/png": "[encoded data removed]",
      "text/plain": [
       "<matplotlib.figure.Figure at 0x10b8d6c50>"
      ]
     },
     "metadata": {},
     "output_type": "display_data"
    }
   ],
   "source": [
    "# load the data and labels\n",
    "X, y = data, labels.reshape((len(labels),1))\n",
    "\n",
    "# it's always a good idea to normalize the data between 0 and 1\n",
    "X = X/np.amax(X, axis=0)\n",
    "y = y/np.amax(y, axis=0)\n",
    "\n",
    "# create a 2x3x1 neural net\n",
    "net = Neural_Network(2, 3, 1)    \n",
    "\n",
    "# what is the current cost?\n",
    "y_orig = net.predict(X)\n",
    "init_cost = cost(y_orig, y)\n",
    "print(\"initial cost = %0.3f\" % init_cost)\n",
    "\n",
    "# Set the learning rate, and how many epochs (updates) to try\n",
    "n_epochs = 2000\n",
    "learning_rate = 0.01\n",
    "\n",
    "# for each epoch, calculate the gradient, then subtract it from the parameters, and save the cost\n",
    "errors = []\n",
    "for i in range(n_epochs):\n",
    "    dw1, dw2 = get_gradient(net, X, y)\n",
    "    net.W1 = net.W1 - learning_rate * dw1\n",
    "    net.W2 = net.W2 - learning_rate * dw2\n",
    "    y_pred = net.predict(X)\n",
    "    error = cost(y_pred, y)\n",
    "    errors.append(error)\n",
    "        \n",
    "# plot it\n",
    "plt.plot(range(0, len(errors)), errors, linewidth=2)\n",
    "\n",
    "# what is the final cost?\n",
    "y_pred = net.predict(X)\n",
    "final_cost = cost(y_pred, y)\n",
    "print(\"final cost = %0.3f\" % final_cost)\n"
   ]
  },
  {
   "cell_type": "markdown",
   "metadata": {},
   "source": [
    "So we have implemented a neural network with manual numerical gradient computation for gradient descent and used it to optimize a small network.\n",
    "\n",
    "In the next guide, we are going to use [Keras](http://www.keras.io), a high-level machine learning library which we will use throughout the class from this point forward."
   ]
  }
 ],
 "metadata": {
  "kernelspec": {
   "display_name": "Python 3",
   "language": "python",
   "name": "python3"
  },
  "language_info": {
   "codemirror_mode": {
    "name": "ipython",
    "version": 3
   },
   "file_extension": ".py",
   "mimetype": "text/x-python",
   "name": "python",
   "nbconvert_exporter": "python",
   "pygments_lexer": "ipython3",
   "version": "3.5.2"
  }
 },
 "nbformat": 4,
 "nbformat_minor": 2
}
